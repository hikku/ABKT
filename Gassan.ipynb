{
 "cells": [
  {
   "cell_type": "code",
   "execution_count": 31,
   "metadata": {},
   "outputs": [],
   "source": [
    "import os, json, requests, math, cv2\n",
    "from skimage import io\n",
    "import numpy as np\n",
    "import matplotlib.pyplot as plt\n",
    "%matplotlib inline"
   ]
  },
  {
   "cell_type": "code",
   "execution_count": 32,
   "metadata": {},
   "outputs": [],
   "source": [
    "Band1 = cv2.imread('IMG-01-ALAV2A278172850-OORIRFU_002.tif')\n",
    "Band2 = cv2.imread('IMG-02-ALAV2A278172850-OORIRFU_002.tif')\n",
    "Band3 = cv2.imread('IMG-03-ALAV2A278172850-OORIRFU_002.tif')\n",
    "Band4 = cv2.imread('IMG-04-ALAV2A278172850-OORIRFU_002.tif')\n",
    "Band =[Band1,Band2,Band3,Band4]"
   ]
  },
  {
   "cell_type": "code",
   "execution_count": 33,
   "metadata": {},
   "outputs": [],
   "source": [
    "# 色変換\n",
    "TYPE_RED = 1\n",
    "TYPE_GREEN = 2\n",
    "TYPE_BLUE = 3\n",
    "\n",
    "def img_change_color(img,colortype):\n",
    "    \n",
    "    temp_img = cv2.split(img)\n",
    "    \n",
    "    # ゼロ埋めの画像配列\n",
    "    if len(img.shape) == 3:\n",
    "        height, width, channels = img.shape[:3]\n",
    "    else:\n",
    "        height, width = img.shape[:2]\n",
    "        channels = 1\n",
    "    zeros = np.zeros((height, width), img.dtype)\n",
    "    # 色の指定\n",
    "    if colortype == TYPE_RED:\n",
    "        return cv2.merge((temp_img[1],zeros,zeros))\n",
    "    elif colortype == TYPE_GREEN:\n",
    "        return cv2.merge((zeros,temp_img[1],zeros))\n",
    "    else:\n",
    "        return cv2.merge((zeros,zeros,temp_img[1]))"
   ]
  },
  {
   "cell_type": "code",
   "execution_count": 34,
   "metadata": {},
   "outputs": [],
   "source": [
    "Band1_red = img_change_color(band1,TYPE_RED)\n",
    "Band2_red = img_change_color(band2,TYPE_RED)\n",
    "Band3_red = img_change_color(band3,TYPE_RED)\n",
    "Band4_red = img_change_color(band4,TYPE_RED)\n",
    "Band_red =[Band1_red,Band2_red,Band3_red,Band4_red]"
   ]
  },
  {
   "cell_type": "code",
   "execution_count": 36,
   "metadata": {},
   "outputs": [],
   "source": [
    "Band1_green = img_change_color(band1,TYPE_GREEN)\n",
    "Band2_green = img_change_color(band2,TYPE_GREEN)\n",
    "Band3_green = img_change_color(band3,TYPE_GREEN)\n",
    "Band4_green = img_change_color(band4,TYPE_GREEN)\n",
    "Band_green =[Band1_green,Band2_green,Band3_green,Band4_green]"
   ]
  },
  {
   "cell_type": "code",
   "execution_count": 37,
   "metadata": {},
   "outputs": [],
   "source": [
    "Band1_blue = img_change_color(band1,TYPE_BLUE)\n",
    "Band2_blue = img_change_color(band2,TYPE_BLUE)\n",
    "Band3_blue = img_change_color(band3,TYPE_BLUE)\n",
    "Band4_blue = img_change_color(band4,TYPE_BLUE)\n",
    "Band_blue =[Band1_blue,Band2_blue,Band3_blue,Band4_blue]"
   ]
  },
  {
   "cell_type": "code",
   "execution_count": 38,
   "metadata": {},
   "outputs": [],
   "source": [
    "rg = []\n",
    "i = 0\n",
    "i = 0\n",
    "j = 0\n",
    "k = 0"
   ]
  },
  {
   "cell_type": "code",
   "execution_count": null,
   "metadata": {},
   "outputs": [],
   "source": [
    "for i in band_blue(4):\n",
    "    for i in band"
   ]
  }
 ],
 "metadata": {
  "kernelspec": {
   "display_name": "Python 3",
   "language": "python",
   "name": "python3"
  },
  "language_info": {
   "codemirror_mode": {
    "name": "ipython",
    "version": 3
   },
   "file_extension": ".py",
   "mimetype": "text/x-python",
   "name": "python",
   "nbconvert_exporter": "python",
   "pygments_lexer": "ipython3",
   "version": "3.7.6"
  }
 },
 "nbformat": 4,
 "nbformat_minor": 4
}
