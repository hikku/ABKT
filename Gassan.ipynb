{
 "cells": [
  {
   "cell_type": "code",
   "execution_count": 31,
   "metadata": {},
   "outputs": [],
   "source": [
    "import os, json, requests, math, cv2\n",
    "from skimage import io\n",
    "import numpy as np\n",
    "import matplotlib.pyplot as plt\n",
    "%matplotlib inline"
   ]
  },
  {
   "cell_type": "code",
   "execution_count": 32,
   "metadata": {},
   "outputs": [],
   "source": [
    "image = []\n",
    "image.append(cv2.imread('IMG-01-ALAV2A278172850-OORIRFU_002.tif'))\n",
    "image.append(cv2.imread('IMG-02-ALAV2A278172850-OORIRFU_002.tif'))\n",
    "image.append(cv2.imread('IMG-03-ALAV2A278172850-OORIRFU_002.tif'))\n",
    "image.append(cv2.imread('IMG-04-ALAV2A278172850-OORIRFU_002.tif'))"
   ]
  },
  {
   "cell_type": "code",
   "execution_count": 33,
   "metadata": {},
   "outputs": [],
   "source": [
    "# 画像に色を付与\n",
    "def img_change_color(img, color):\n",
    "    temp_img = cv2.split(img)\n",
    "    \n",
    "    # ゼロ埋めの画像配列\n",
    "    if len(img.shape) == 3:\n",
    "        height, width, channels = img.shape[:3]\n",
    "    else:\n",
    "        height, width = img.shape[:2]\n",
    "        channels = 1\n",
    "    zeros = np.zeros((height, width), img.dtype)\n",
    "    # 色の指定\n",
    "    if color == 'red':\n",
    "        return cv2.merge((temp_img[1],zeros,zeros))\n",
    "    elif color == 'green':\n",
    "        return cv2.merge((zeros,temp_img[1],zeros))\n",
    "    elif color == 'blue':\n",
    "        return cv2.merge((zeros,zeros,temp_img[1]))"
   ]
  },
  {
   "cell_type": "code",
   "execution_count": 34,
   "metadata": {},
   "outputs": [],
   "source": [
    "band_red = []\n",
    "band_green = []\n",
    "band_blue = []\n",
    "for iamge_index in range(len(image)):\n",
    "    band_red.append(img_change_color(image[iamge_index], red))\n",
    "    band_green.append(img_change_color(image[iamge_index], green))\n",
    "    band_blue.append(img_change_color(image[iamge_index], blue))"
   ]
  },
  {
   "cell_type": "code",
   "execution_count": null,
   "metadata": {},
   "outputs": [],
   "source": [
    "# add weighted\n",
    "add_red_green = []\n",
    "for red_index in range(len(band_red)):\n",
    "    for green_index in range(len(band_green)):\n",
    "        if red_index != green_index:\n",
    "            add_red_green.append(cv2.addWeighted(band_red[red_index], 1, band_green[green_index], 1, 0))\n",
    "\n"
   ]
  }
 ],
 "metadata": {
  "kernelspec": {
   "display_name": "Python 3",
   "language": "python",
   "name": "python3"
  },
  "language_info": {
   "codemirror_mode": {
    "name": "ipython",
    "version": 3
   },
   "file_extension": ".py",
   "mimetype": "text/x-python",
   "name": "python",
   "nbconvert_exporter": "python",
   "pygments_lexer": "ipython3",
   "version": "3.7.6"
  }
 },
 "nbformat": 4,
 "nbformat_minor": 4
}